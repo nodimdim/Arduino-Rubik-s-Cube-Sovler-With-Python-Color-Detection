{
 "cells": [
  {
   "cell_type": "code",
   "execution_count": 1,
   "metadata": {},
   "outputs": [],
   "source": [
    "import numpy as np\n",
    "import cv2"
   ]
  },
  {
   "cell_type": "code",
   "execution_count": 2,
   "metadata": {},
   "outputs": [],
   "source": [
    "def rgb_to_hue(r, g, b):\n",
    "    [[[h, _, _]]] = cv2.cvtColor(np.array([[[b, g, r]]]).astype('uint8'), cv2.COLOR_BGR2HSV)\n",
    "    return h"
   ]
  },
  {
   "cell_type": "code",
   "execution_count": 3,
   "metadata": {},
   "outputs": [],
   "source": [
    "def get_hue(image):\n",
    "    hue_sum = 0\n",
    "    image = cv2.cvtColor(image, cv2.COLOR_BGR2HSV)\n",
    "    for i in range(image.shape[0]):\n",
    "        for j in range(image.shape[1]):\n",
    "            hue_sum += image[i, j, 0]\n",
    "    return hue_sum//(image.shape[0] * image.shape[1])"
   ]
  },
  {
   "cell_type": "code",
   "execution_count": 4,
   "metadata": {},
   "outputs": [
    {
     "name": "stdout",
     "output_type": "stream",
     "text": [
      "[8, 26, 63, 99, 110, 176]\n",
      "[17, 44, 81, 104, 143]\n"
     ]
    }
   ],
   "source": [
    "hues = [get_hue(cv2.imread(\"col/orange.png\")), \n",
    "        get_hue(cv2.imread(\"col/yellow.png\")),\n",
    "        get_hue(cv2.imread(\"col/green.png\")),\n",
    "        get_hue(cv2.imread(\"col/white.png\")), \n",
    "        get_hue(cv2.imread(\"col/blue.png\")),\n",
    "        get_hue(cv2.imread(\"col/red.png\"))]\n",
    "\n",
    "print(hues)\n",
    "rngs = [(hues[i-1]+hues[i])//2 for i in range(1, len(hues))]\n",
    "print(rngs)"
   ]
  },
  {
   "cell_type": "code",
   "execution_count": 5,
   "metadata": {},
   "outputs": [],
   "source": [
    "def detect_colors (src, tgt, hue1, hue2, col):\n",
    "    lower = np.array([hue1, 50, 50])\n",
    "    upper = np.array([hue2, 255, 255])\n",
    "        \n",
    "    mask = cv2.inRange(hsv, lower, upper)\n",
    "    ret, thresh = cv2.threshold(mask, 127, 255, 0)\n",
    "    _, contours, hierarchy = cv2.findContours(thresh, cv2.RETR_TREE, cv2.CHAIN_APPROX_SIMPLE)\n",
    "    for cnt in contours:\n",
    "        cnt_area = cv2.contourArea(cnt)\n",
    "        rect = cv2.minAreaRect(cnt)\n",
    "        ((x, y),(h, w),_) = rect\n",
    "        org = int(x)-15, int(y)\n",
    "        if abs(w-h) < 20:\n",
    "            box = cv2.boxPoints(rect)\n",
    "            box = np.int0(box)\n",
    "            box_area = cv2.contourArea(box)  \n",
    "            if box_area > 2560 and box_area < 256000 and 2*cnt_area > box_area:\n",
    "                cv2.putText(tgt, col, org, cv2.FONT_HERSHEY_SIMPLEX, .5, (255, 255, 255))\n",
    "                cv2.drawContours(tgt, [box], 0, (0,0,255), 2)"
   ]
  },
  {
   "cell_type": "code",
   "execution_count": 6,
   "metadata": {},
   "outputs": [],
   "source": [
    "def detect_white (src, tgt):\n",
    "    ret, thresh = cv2.threshold(src, 170, 255, 0)\n",
    "    _, contours, hierarchy = cv2.findContours(thresh, cv2.RETR_TREE, cv2.CHAIN_APPROX_SIMPLE)\n",
    "    for cnt in contours:\n",
    "        cnt_area = cv2.contourArea(cnt)\n",
    "        rect = cv2.minAreaRect(cnt)\n",
    "        ((x, y),(h, w),_) = rect\n",
    "        org = int(x)-15, int(y)\n",
    "        if abs(w-h) < 20:\n",
    "            box = cv2.boxPoints(rect)\n",
    "            box = np.int0(box)\n",
    "            box_area = cv2.contourArea(box)  \n",
    "            if box_area > 2560 and box_area < 256000 and 2*cnt_area > box_area:\n",
    "                cv2.putText(tgt, 'White', org, cv2.FONT_HERSHEY_SIMPLEX, .5, (255, 255, 255))\n",
    "                cv2.drawContours(tgt, [box], 0, (0,0,255), 2)"
   ]
  },
  {
   "cell_type": "code",
   "execution_count": 7,
   "metadata": {},
   "outputs": [],
   "source": [
    "def enhance(src):\n",
    "    lab= cv2.cvtColor(src, cv2.COLOR_BGR2LAB)\n",
    "    l, a, b = cv2.split(lab)\n",
    "    clahe = cv2.createCLAHE(clipLimit=2.0, tileGridSize=(5,5))\n",
    "    cl = clahe.apply(l)\n",
    "    limg = cv2.merge((cl,a,b))\n",
    "    final = cv2.cvtColor(limg, cv2.COLOR_LAB2BGR)\n",
    "    return final"
   ]
  },
  {
   "cell_type": "code",
   "execution_count": 8,
   "metadata": {},
   "outputs": [],
   "source": [
    "def power_law_trans(src, gamma):\n",
    "    ret = src.copy()\n",
    "    ret = (ret/255)**gamma\n",
    "    ret = ret*255\n",
    "    return ret"
   ]
  },
  {
   "cell_type": "code",
   "execution_count": null,
   "metadata": {},
   "outputs": [],
   "source": [
    "cap = cv2.VideoCapture(-1)\n",
    "while True:\n",
    "    _, frame = cap.read()\n",
    "    blur = cv2.medianBlur(frame, 1)\n",
    "    #print(rgb_to_hue(frame[0, 0, 2], frame[0, 0, 1], frame[0, 0, 0]))\n",
    "    hsv = cv2.cvtColor(blur, cv2.COLOR_BGR2HSV)\n",
    "    gray = cv2.cvtColor(blur, cv2.COLOR_BGR2GRAY)\n",
    "    gray = power_law_trans(gray, 1.5).astype('uint8');\n",
    "    \n",
    "    detect_colors(hsv, frame, 0, 17, 'Orange')\n",
    "    detect_colors(hsv, frame, 18 , 44, 'Yellow')\n",
    "    detect_colors(hsv, frame, 45, 81, 'Green')\n",
    "    detect_colors(hsv, frame, 95, 120, 'Blue')\n",
    "    detect_colors(hsv, frame, 144, 180, 'Red')\n",
    "    detect_white(gray, frame)\n",
    "    \n",
    "    cv2.imshow('frame',frame)\n",
    "    cv2.imshow('blur',blur)\n",
    "    cv2.imshow('gray',gray)\n",
    "    if cv2.waitKey(5) & 0xFF == 27:\n",
    "        break\n",
    "\n",
    "cv2.destroyAllWindows()"
   ]
  }
 ],
 "metadata": {
  "kernelspec": {
   "display_name": "Python 3",
   "language": "python",
   "name": "python3"
  },
  "language_info": {
   "codemirror_mode": {
    "name": "ipython",
    "version": 3
   },
   "file_extension": ".py",
   "mimetype": "text/x-python",
   "name": "python",
   "nbconvert_exporter": "python",
   "pygments_lexer": "ipython3",
   "version": "3.5.2"
  }
 },
 "nbformat": 4,
 "nbformat_minor": 2
}
